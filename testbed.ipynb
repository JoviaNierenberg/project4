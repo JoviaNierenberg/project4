{
 "cells": [
  {
   "cell_type": "code",
   "execution_count": 8,
   "id": "506d6aa2",
   "metadata": {},
   "outputs": [],
   "source": [
    "def read_fasta(fasta_file: str) -> Tuple[str, str]:\n",
    "    \"\"\"\n",
    "    DO NOT MODIFY THIS FUNCTION! IT IS ALREADY COMPLETE!\n",
    "\n",
    "    This function reads in a FASTA file and returns the associated\n",
    "    string of characters (residues or nucleotides) and the header.\n",
    "    This function assumes a single protein or nucleotide sequence\n",
    "    per fasta file and will only read in the first sequence in the\n",
    "    file if multiple are provided.\n",
    "\n",
    "    Parameters:\n",
    "        fasta_file: str\n",
    "            name (and associated path if not in current working directory)\n",
    "            of the Fasta file.\n",
    "\n",
    "    Returns:\n",
    "        seq: str\n",
    "            String of characters from FASTA file\n",
    "        header: str\n",
    "            Fasta header\n",
    "    \"\"\"\n",
    "    assert fasta_file.endswith(\".fa\"), \"Fasta file must be a fasta file with the suffix .fa\"\n",
    "    with open(fasta_file) as f:\n",
    "        seq = \"\"  # initializing sequence\n",
    "        first_header = True\n",
    "        for line in f:\n",
    "            is_header = line.strip().startswith(\">\")\n",
    "            # Reading in the first header\n",
    "            if is_header and first_header:\n",
    "                header = line.strip()  # reading in fasta header\n",
    "                first_header = False\n",
    "            # Reading in the sequence line by line\n",
    "            elif not is_header:\n",
    "                seq += line.strip().upper()  # generating full sequence\n",
    "            # Breaking if more than one header is provided in the fasta file\n",
    "            elif is_header and not first_header:\n",
    "                break\n",
    "    return seq, header"
   ]
  },
  {
   "cell_type": "code",
   "execution_count": 105,
   "id": "a6fe127c",
   "metadata": {},
   "outputs": [
    {
     "data": {
      "text/plain": [
       "(17.0, 'MAVHQLIRRP', 'M---QLIRHP')"
      ]
     },
     "execution_count": 105,
     "metadata": {},
     "output_type": "execute_result"
    }
   ],
   "source": [
    "# Importing Dependencies\n",
    "import numpy as np\n",
    "from typing import Tuple\n",
    "\n",
    "# Defining class for Needleman-Wunsch Algorithm for Global pairwise alignment\n",
    "class NeedlemanWunsch:\n",
    "    \"\"\" Class for NeedlemanWunsch Alignment\n",
    "\n",
    "    Parameters:\n",
    "        sub_matrix_file: str\n",
    "            Path/filename of substitution matrix\n",
    "        gap_open: float\n",
    "            Gap opening penalty\n",
    "        gap_extend: float\n",
    "            Gap extension penalty\n",
    "\n",
    "    Attributes:\n",
    "        seqA_align: str\n",
    "            seqA alignment\n",
    "        seqB_align: str\n",
    "            seqB alignment\n",
    "        alignment_score: float\n",
    "            Score of alignment from algorithm\n",
    "        gap_open: float\n",
    "            Gap opening penalty\n",
    "        gap_extend: float\n",
    "            Gap extension penalty\n",
    "    \"\"\"\n",
    "    def __init__(self, sub_matrix_file: str, gap_open: float, gap_extend: float):\n",
    "        # Init alignment and gap matrices\n",
    "        self._align_matrix = None\n",
    "        self._gapA_matrix = None\n",
    "        self._gapB_matrix = None\n",
    "\n",
    "        # Init matrices for backtrace procedure\n",
    "        self._back = None\n",
    "        self._back_A = None\n",
    "        self._back_B = None\n",
    "\n",
    "        # Init alignment_score\n",
    "        self.alignment_score = 0\n",
    "\n",
    "        # Init empty alignment attributes\n",
    "        self.seqA_align = \"\"\n",
    "        self.seqB_align = \"\"\n",
    "\n",
    "        # Init empty sequences\n",
    "        self._seqA = \"\"\n",
    "        self._seqB = \"\"\n",
    "\n",
    "        # Setting gap open and gap extension penalties\n",
    "        self.gap_open = gap_open\n",
    "        assert gap_open < 0, \"Gap opening penalty must be negative.\"\n",
    "        self.gap_extend = gap_extend\n",
    "        assert gap_extend < 0, \"Gap extension penalty must be negative.\"\n",
    "\n",
    "        # Generating substitution matrix\n",
    "        self.sub_dict = self._read_sub_matrix(sub_matrix_file) # substitution dictionary\n",
    "\n",
    "    def _read_sub_matrix(self, sub_matrix_file):\n",
    "        \"\"\"\n",
    "        DO NOT MODIFY THIS METHOD! IT IS ALREADY COMPLETE!\n",
    "\n",
    "        This function reads in a scoring matrix from any matrix like file.\n",
    "        Where there is a line of the residues followed by substitution matrix.\n",
    "        This file also saves the alphabet list attribute.\n",
    "\n",
    "        Parameters:\n",
    "            sub_matrix_file: str\n",
    "                Name (and associated path if not in current working directory)\n",
    "                of the matrix file that contains the scoring matrix.\n",
    "\n",
    "        Returns:\n",
    "            dict_sub: dict\n",
    "                Substitution matrix dictionary with tuple of the two residues as\n",
    "                the key and score as value e.g. {('A', 'A'): 4} or {('A', 'D'): -8}\n",
    "        \"\"\"\n",
    "        with open(sub_matrix_file, 'r') as f:\n",
    "            dict_sub = {}  # Dictionary for storing scores from sub matrix\n",
    "            residue_list = []  # For storing residue list\n",
    "            start = False  # trigger for reading in score values\n",
    "            res_2 = 0  # used for generating substitution matrix\n",
    "            # reading file line by line\n",
    "            for line_num, line in enumerate(f):\n",
    "                # Reading in residue list\n",
    "                if '#' not in line.strip() and start is False:\n",
    "                    residue_list = [k for k in line.strip().upper().split(' ') if k != '']\n",
    "                    start = True\n",
    "                # Generating substitution scoring dictionary\n",
    "                elif start is True and res_2 < len(residue_list):\n",
    "                    line = [k for k in line.strip().split(' ') if k != '']\n",
    "                    # reading in line by line to create substitution dictionary\n",
    "                    assert len(residue_list) == len(line), \"Score line should be same length as residue list\"\n",
    "                    for res_1 in range(len(line)):\n",
    "                        dict_sub[(residue_list[res_1], residue_list[res_2])] = float(line[res_1])\n",
    "                    res_2 += 1\n",
    "                elif start is True and res_2 == len(residue_list):\n",
    "                    break\n",
    "        return dict_sub\n",
    "\n",
    "    def align(self, seqA: str, seqB: str) -> Tuple[float, str, str]:\n",
    "        \"\"\"\n",
    "        # TODO: Fill in the Needleman-Wunsch Algorithm below\n",
    "        to perform global sequence alignment of seqA and seqB\n",
    "        and return a tuple with the following format\n",
    "        (alignment score, seqA alignment, seqB alignment)\n",
    "        Also, write up a docstring for this function using the\n",
    "        _read_sub_matrix as an example.\n",
    "        Don't forget to comment your code!\n",
    "        \"\"\"\n",
    "        # Initialize 6 matrix private attributes for use in alignment\n",
    "        # create matrices for alignment scores and gaps\n",
    "        self._align_matrix = np.ones((len(seqA) + 1, len(seqB) + 1)) * -np.inf # score of best alignment ending with a character-character match or mismatch\n",
    "        self._gapA_matrix = np.ones((len(seqA) + 1, len(seqB) + 1)) * -np.inf # score of best alignment ending with a space in A\n",
    "        self._gapB_matrix = np.ones((len(seqA) + 1, len(seqB) + 1)) * -np.inf # score of best alignment ending with a space in B\n",
    "\n",
    "        # create matrices for pointers used in backtrace procedure\n",
    "        self._back = np.ones((len(seqA) + 1, len(seqB) + 1)) * -np.inf\n",
    "        self._back_A = np.ones((len(seqA) + 1, len(seqB) + 1)) * -np.inf\n",
    "        self._back_B = np.ones((len(seqA) + 1, len(seqB) + 1)) * -np.inf\n",
    "\n",
    "        # Resetting alignment in case method is called more than once\n",
    "        self.seqA_align = \"\"\n",
    "        self.seqB_align = \"\"\n",
    "\n",
    "        # Resetting alignment score in case method is called more than once\n",
    "        self.alignment_score = 0\n",
    "\n",
    "        # Initializing sequences for use in backtrace method\n",
    "        self._seqA = seqA\n",
    "        self._seqB = seqB\n",
    "\n",
    "        # TODO Implement the global sequence alignment here\n",
    "        #print(seqA)\n",
    "        #print(seqB)\n",
    "        #print(len(seqA))\n",
    "        #print(len(seqB))\n",
    "        \n",
    "        #print(self.sub_dict)\n",
    "        for a in range(len(seqA)+1): # num rows\n",
    "            for b in range(len(seqB)+1): # num cols\n",
    "                if a==0:\n",
    "                    self._gapA_matrix[a,b] = self.gap_open + b*self.gap_extend # first row/col\n",
    "                    if b==0:\n",
    "                        self._align_matrix[a,b] = 0 # set upper left corner to zero\n",
    "                elif a>0:\n",
    "                    if b>0:\n",
    "                        # determine the match score\n",
    "                        char_a = seqA[a-1] \n",
    "                        char_b = seqB[b-1] \n",
    "                        match = self.sub_dict[(char_a, char_b)]\n",
    "                        #print(\"row a: \" + char_a + \", column b: \" + char_b + \", match score: \" + str(match) )\n",
    "                        \n",
    "                        # calculate maximums for M, A, and B matrices, storing options\n",
    "                        m_options = [self._align_matrix[a-1,b-1], self._gapA_matrix[a-1,b-1], self._gapB_matrix[a-1,b-1]]\n",
    "                        m_max = max(m_options)\n",
    "                        a_options = [self.gap_open + self.gap_extend + self._align_matrix[a,b-1],\n",
    "                                    self.gap_extend + self._gapA_matrix[a,b-1],\n",
    "                                    self.gap_open + self.gap_extend + self._gapB_matrix[a,b-1]]\n",
    "                        a_max = max(a_options)\n",
    "                        b_options = [self.gap_open + self.gap_extend + self._align_matrix[a-1,b],\n",
    "                                    self.gap_open + self.gap_extend + self._gapA_matrix[a-1,b],\n",
    "                                    self.gap_extend + self._gapB_matrix[a-1,b]]\n",
    "                        b_max = max(b_options)\n",
    "\n",
    "                        # update pointers\n",
    "                        self._back[a,b] = m_options.index(m_max)\n",
    "                        self._back_A[a,b] = a_options.index(a_max)\n",
    "                        self._back_B[a,b] = b_options.index(b_max)\n",
    "\n",
    "                        # calculate values for each align/gap matrix\n",
    "                        self._align_matrix[a,b] = match + m_max\n",
    "                        self._gapA_matrix[a,b] = a_max\n",
    "                        self._gapB_matrix[a,b] = b_max\n",
    "                if b==0:\n",
    "                    self._gapB_matrix[a,b] = self.gap_open + a*self.gap_extend # first row/col\n",
    "        \n",
    "        #print(self._align_matrix)\n",
    "        #print(self._gapA_matrix)\n",
    "        #print(self._gapB_matrix)\n",
    "        #print(self._back)\n",
    "        #print(self._back_A)\n",
    "        #print(self._back_B)\n",
    "        return self._backtrace()\n",
    "        \n",
    "\n",
    "    def _backtrace(self) -> Tuple[float, str, str]:\n",
    "        \"\"\"\n",
    "        # TODO Implement the traceback procedure method below\n",
    "        based on the heuristic you implement in the align method.\n",
    "        The traceback method should return a tuple of the alignment\n",
    "        score, the seqA alignment and the seqB alignment respectively.\n",
    "        \"\"\"\n",
    "        # Implement this method based upon the heuristic chosen in the align method above.\n",
    "        \n",
    "        # start with bottom right square\n",
    "        curr_a = len(self._seqA)\n",
    "        curr_b = len(self._seqB)\n",
    "        \n",
    "        # create empty strings for each sequence\n",
    "        \n",
    "        # trace path from botom right to top left\n",
    "        while curr_a>0 and curr_b>0:\n",
    "            # determine maximum and index of maximum in cell\n",
    "            curr_options = [self._align_matrix[curr_a, curr_b],\n",
    "                             self._gapA_matrix[curr_a, curr_b],\n",
    "                             self._gapB_matrix[curr_a, curr_b]]\n",
    "            curr_max = max(curr_options)\n",
    "            curr_max_index = curr_options.index(curr_max)\n",
    "            #print(curr_max_index)\n",
    "            \n",
    "            # assign alignment score from bottom right\n",
    "            if curr_a==len(self._seqA) and curr_b==len(self._seqB):\n",
    "                align_score = curr_max\n",
    "            \n",
    "            # match/mismatch - add to sequences, set new cell\n",
    "            if curr_max_index==0:\n",
    "                self.seqA_align = self.seqA_align + self._seqA[curr_a-1]\n",
    "                self.seqB_align = self.seqB_align + self._seqB[curr_b-1]\n",
    "                curr_a -= 1\n",
    "                curr_b -= 1\n",
    "            \n",
    "            # skip in sequence A\n",
    "            elif curr_max_index==1:\n",
    "                self.seqA_align = self.seqA_align + \"-\"\n",
    "                self.seqB_align = self.seqB_align + self._seqB[curr_b-1]\n",
    "                curr_b -= 1\n",
    "            \n",
    "            # skip in sequence B\n",
    "            elif curr_max_index==2:\n",
    "                self.seqA_align = self.seqA_align + self._seqA[curr_a-1]\n",
    "                self.seqB_align = self.seqB_align + \"-\"\n",
    "                curr_a -= 1\n",
    "            \n",
    "        # reverse strings\n",
    "        self.seqA_align = self.seqA_align[::-1]\n",
    "        self.seqB_align = self.seqB_align[::-1]\n",
    "        \n",
    "        return (align_score, self.seqA_align, self.seqB_align) \n",
    "        \n",
    "\n",
    "\n",
    "\n",
    "seq1, _ = read_fasta(\"./data/test_seq3.fa\")\n",
    "seq2, _ = read_fasta(\"./data/test_seq4.fa\")\n",
    "A=NeedlemanWunsch(\"./substitution_matrices/BLOSUM62.mat\", -10, -1)\n",
    "A.align(seq1, seq2)\n",
    "#print(A.sub_dict)"
   ]
  },
  {
   "cell_type": "code",
   "execution_count": 3,
   "id": "5f4192b2",
   "metadata": {},
   "outputs": [
    {
     "name": "stdout",
     "output_type": "stream",
     "text": [
      "MYQR\n",
      "MQR\n"
     ]
    }
   ],
   "source": [
    "seq1, _ = read_fasta(\"./data/test_seq1.fa\")\n",
    "seq2, _ = read_fasta(\"./data/test_seq2.fa\")\n",
    "\n",
    "print(seq1)\n",
    "print(seq2)"
   ]
  },
  {
   "cell_type": "code",
   "execution_count": 5,
   "id": "970f7d9d",
   "metadata": {},
   "outputs": [
    {
     "name": "stdout",
     "output_type": "stream",
     "text": [
      "MLQNVTPHNKLPGEGNAGLLGLGPEAAAPGKRIRKPSLLYEGFESPTMASVPALQLTPANPPPPEVSNPKKPGRVTNQLQYLHKVVMKALWKHQFAWPFRQPVDAVKLGLPDYHKIIKQPMDMGTIKRRLENNYYWAASECMQDFNTMFTNCYIYNKPTDDIVLMAQTLEKIFLQKVASMPQEEQELVVTIPKNSHKKGAKLAALQGSVTSAHQVPAVSSVSHTALYTPPPEIPTTVLNIPHPSVISSPLLKSLHSAGPPLLAVTAAPPAQPLAKKKGVKRKADTTTPTPTAILAPGSPASPPGSLEPKAARLPPMRRESGRPIKPPRKDLPDSQQQHQSSKKGKLSEQLKHCNGILKELLSKKHAAYAWPFYKPVDASALGLHDYHDIIKHPMDLSTVKRKMENRDYRDAQEFAADVRLMFSNCYKYNPPDHDVVAMARKLQDVFEFRYAKMPDEPLEPGPLPVSTAMPPGLAKSSSESSSEESSSESSSEEEEEEDEEDEEEEESESSDSEEERAHRLAELQEQLRAVHEQLAALSQGPISKPKRKREKKEKKKKRKAEKHRGRAGADEDDKGPRAPRPPQPKKSKKASGSGGGSAALGPSGFGPSGGSGTKLPKKATKTAPPALPTGYDSEEEEESRPMSYDEKRQLSLDINKLPGEKLGRVVHIIQAREPSLRDSNPEEIEIDFETLKPSTLRELERYVLSCLRKKPRKPYTIKKPVGKTKEELALEKKRELEKRLQDVSGQLNSTKKPPKKANEKTESSSAQQVAVSRLSASSSSSDSSSSSSSSSSSDTSDSDSG\n"
     ]
    }
   ],
   "source": [
    "hs_seq, hs_header = read_fasta(\"./data/Homo_sapiens_BRD2.fa\")\n",
    "gg_seq, gg_header = read_fasta(\"./data/Gallus_gallus_BRD2.fa\")\n",
    "mm_seq, mm_header = read_fasta(\"./data/Mus_musculus_BRD2.fa\")\n",
    "br_seq, br_header = read_fasta(\"./data/Balaeniceps_rex_BRD2.fa\")\n",
    "tt_seq, tt_header = read_fasta(\"./data/tursiops_truncatus_BRD2.fa\")\n",
    "\n",
    "print(hs_seq)"
   ]
  },
  {
   "cell_type": "code",
   "execution_count": 65,
   "id": "f2f3abe8",
   "metadata": {},
   "outputs": [
    {
     "name": "stdout",
     "output_type": "stream",
     "text": [
      "[['a' 'b']\n",
      " ['c' 'd']\n",
      " ['e' 'f']]\n"
     ]
    },
    {
     "data": {
      "text/plain": [
       "'c'"
      ]
     },
     "execution_count": 65,
     "metadata": {},
     "output_type": "execute_result"
    }
   ],
   "source": [
    "a = np.array([[\"a\",\"b\"], [\"c\",\"d\"], [\"e\", \"f\"]])\n",
    "print(a)\n",
    "a[1,0]"
   ]
  },
  {
   "cell_type": "code",
   "execution_count": 81,
   "id": "87664053",
   "metadata": {},
   "outputs": [
    {
     "data": {
      "text/plain": [
       "1"
      ]
     },
     "execution_count": 81,
     "metadata": {},
     "output_type": "execute_result"
    }
   ],
   "source": [
    "number_list = [3,6,2]\n",
    "max_val = max(number_list)\n",
    "max_index = number_list.index(max_val)\n",
    "max_index"
   ]
  },
  {
   "cell_type": "code",
   "execution_count": 88,
   "id": "5ce010ba",
   "metadata": {},
   "outputs": [
    {
     "data": {
      "text/plain": [
       "'C'"
      ]
     },
     "execution_count": 88,
     "metadata": {},
     "output_type": "execute_result"
    }
   ],
   "source": [
    "example_string = \"ABCD\"\n",
    "example_string[2]"
   ]
  },
  {
   "cell_type": "code",
   "execution_count": 117,
   "id": "b10cda4f",
   "metadata": {},
   "outputs": [
    {
     "name": "stdout",
     "output_type": "stream",
     "text": [
      "0\n",
      "(3173.0, 'MLQNVTPHNKLPGEGNAGLLGLGPEAAAPGKRIRKPSLLYEGFESPTMASVPALQLTPANPPPPEVSNPKKPGRVTNQLQYLHKVVMKALWKHQFAWPFRQPVDAVKLGLPDYHKIIKQPMDMGTIKRRLENNYYWAASECMQDFNTMFTNCYIYNKPTDDIVLMAQTLEKIFLQKVASMPQEEQELVVTIPKNSHKKGA-KLAALQGSVTSAHQVPAVSSVSHTALYTPPPEIPTTVLNIPHPSVISSPLLKSLHSAGPPLLAVTAAPPAQPLAKKKGVKRKADTTTPTPTAILAPGSPASPPGS-LEPKAARLPPMRRESGRPIKPPRKDLPDSQQQHQSSKKGKLSEQLKHCNGILKELLSKKHAAYAWPFYKPVDASALGLHDYHDIIKHPMDLSTVKRKMENRDYRDAQEFAADVRLMFSNCYKYNPPDHDVVAMARKLQDVFEFRYAKMPDEPLEPGPLPVSTAMPPGLAKSSSESSSEESSSESSSEEEEEEDE-EDEE-EEESESSDSEEERAHRLAELQEQLRAVHEQLAALSQGPISKPKRKREKKEKKKKRKAEKHRGRAGADEDDKGPRAPRPPQPKKSKKASGSGGGSAALGPSGFGPSGGSGTKLPKKATKTAPPALPTGYDSEEEEESRPMSYDEKRQLSLDINKLPGEKLGRVVHIIQAREPSLRDSNPEEIEIDFETLKPSTLRELERYVLSCLRKKPRKPY--TIKKPVGKTKEELALEKKRELEKRLQDVSGQLNSTKKPPKKANEKTESSSAQQVAVSRLSASSSSSDSSSSSSSSSSSDTSDSDSG', 'MLQNVNPQSKILGEGNAGLMGLATE-STPGKRIRKPSLLYEGFESPTMASVPALQTPQANPPPPEVSNPKKPGRVTNQLQYLHKVVMKALWKHQFAWPFRQPVDAVKLGLPDYHKIIKQPMDMGTIKRRLENNYYWGAAECMQDFNTMFTNCYIYNKPTDDIVLMAQTLEKIFLQKVAQMPPEEQEIVVPVAKNSHKKGASRAAALLAGLTAAQQVPAVSSVSHTAVYTPSPDIATTIVNIPHPSVISAPLLKSLHSTAPAVL--TAPAPTQPVAKKKGVKRKADTTTPTTTAIIATSGESSPSATLLEAKAAKI-PARRESGRPIKPPKKDLPDS-QQHQTSKKGKLSEQLKYCNGILKELLSKKHAAYAWPFYKPVDASALGLHDYHEIIKHPMDLSTIKRKMENRDYHDAQEFAADVRLMFSNCYKYNPPDHDVVAMARKLQDVFEFSYAKMPDEPQDASPPSVSAPLLGALSKSSSEESSSDEDDEDEDDEDDDEDESSSESSSESEESSDSEEERANRLAELQEQLRAVHEQLAALSQGPVSKPKKKR---EKKKKKKSEKHKGR-GG--DEES-RA-RQAQLRKAKK------GG---G--G-G-SGGGSSKNSKKAAKAALPPPPALYDSEEEEESKPMTYDEKRQLSLDINKLPGEKLGRVVHIIQSREPSLRDSNPEEIEIDFETLKPSTLRELERYVLSCLRKKPRKPYSETMKKPVGKTKEELALEKKRELEKRLQDVSGQLNSAKKPPKKANEKPE--SAQQVAVSRLSASSSSSDSSSSSSSSSSSDTSDSDSG')\n",
      "1\n",
      "(3682.0, 'MASVPALQLTPANPPPPEVSNPKKPGRVTNQLQYLHKVVMKALWKHQFAWPFRQPVDAVKLGLPDYHKIIKQPMDMGTIKRRLENNYYWAASECMQDFNTMFTNCYIYNKPTDDIVLMAQTLEKIFLQKVASMPQEEQELVVTIPKNSHKKGAKLAALQGSVTSAHQVPAVSSVSHTALYTPPPEIPTTVLNIPHPSVISSPLLKSLHSAGPPLLAVTAAPPAQPLAKKKGVKRKADTTTPTPTAILAPGSPASPPGSLEPKAARLPPMRRESGRPIKPPRKDLPDSQQQHQSSKKGKLSEQLKHCNGILKELLSKKHAAYAWPFYKPVDASALGLHDYHDIIKHPMDLSTVKRKMENRDYRDAQEFAADVRLMFSNCYKYNPPDHDVVAMARKLQDVFEFRYAKMPDEPLEPGPLPVSTAMPPGLAKSSSESSSEESSSESSSEEEEEEDEEDEEEEESESSDSEEERAHRLAELQEQLRAVHEQLAALSQGPISKPKRKREKKEKKKKRKAEKHRGRAGADEDDKGPRAPRPPQPKKSKKASGSGGGSAALGPSGFGPSGGSGTKLPKKATKTAPPALPTGYDSEEEEESRPMSYDEKRQLSLDINKLPGEKLGRVVHIIQAREPSLRDSNPEEIEIDFETLKPSTLRELERYVLSCLRKKPRKPYTIKKPVGKTKEELALEKKRELEKRLQDVSGQLNSTKKPPKKANEKTESSSAQQVAVSRLSASSSSSDSSSSSSSSSSSDTSDSDSG', 'MASVPALQLAPANPPPPEVSNPKKPGRVTNQLQYLHKVVMKALWKHQFAWPFRQPVDAVKLGLPDYHKIIKQPMDMGTIKRRLENNYYWAASECMQDFNTMFTNCYIYNKPTDDIVLMAQTLEKIFLQKVASMPQEEQELVVTIPKNSHKKGAKLAALQGSITSAHQVPAVSSVSHTALYTPPPEIPTTVLNIPHPSVISSPLLKSLHSAGPPLLAVSAAPPAQPLAKKKGVKRKADTTTPTPTAILAPGSPASPPGSLEPKAARLPPMRRESGRPIKPPRKDLPDSQQQHQSSKKGKLSEQLKHCNGILKELLSKKHAAYAWPFYKPVDASALGLHDYHDIIKHPMDLSTVKRKMENRDYRDAQEFAADVRLMFSNCYKYNPPDHDVVAMARKLQDVFEFRYAKMPDEPLEPGPLPVSTALPPGLTKSSSESSSEESSSESSSEEEEEE-EEDEDEEESESSDSEEERAHRLAELQEQLRAVHEQLAALSQGPISKPKRKREKKEKKKKRKAEKHRGRIGIDEDDKGPRAPRPPQPKKSKKAGGGGSNATTLSHPGFGTSGGSSNKLPKKSQKTAPPVLPTGYDSEEEEESRPMSYDEKRQLSLDINKLPGEKLGRVVHIIQAREPSLRDSNPEEIEIDFETLKPSTLRELERYVLSCLRKKPRKPYTIRKPVGKTKEELALEKKRELEKRLQDVSGQLNSTKKPPKKASEKTE-SSAQQVAVSRLSASSSSSDSSSSSSSSSSSDTSDSDSG')\n",
      "2\n",
      "(2941.0, 'MASVPALQLTPANPPPPEVSNPKKPGRVTNQLQYLHKVVMKALWKHQFAWPFRQPVDAVKLGLPDYHKIIKQPMDMGTIKRRLENNYYWAASECMQDFNTMFTNCYIYNKPTDDIVLMAQTLEKIFLQKVASMPQEEQELVVTIPKNSHKKGA-KLAALQGSVTSAHQVPAVSSVSHTALYTPPPEIPTTVLNIPHPSVISSPLLKSLHSAGPPLLAVTAAPPAQPLAKKKGVKRKADTTTPTPTAILAPGSPASPPGS-LEPKAARLPPMRRESGRPIKPPRKDLPDSQQQHQSSKKGKLSEQLKHCNGILKELLSKKHAAYAWPFYKPVDASALGLHDYHDIIKHPMDLSTVKRKMENRDYRDAQEFAADVRLMFSNCYKYNPPDHDVVAMARKLQDVFEFRYAKMPDEPLEPGPLPVSTAMPPGLAKSSS-ESSSEESSSESSSEEEEEEDEEDEEEEES-ESSDSEEERAHRLAELQEQLRAVHEQLAALSQGPISKPKRKREKKEKKKKRKAEKHRGRAGADEDDKGPRAPRPPQPKKSKKASGSGGGSAALGPSGFGPSGGSGTKLPKKATKTAPPALPTGYDSEEEEESRPMSYDEKRQLSLDINKLPGEKLGRVVHIIQAREPSLRDSNPEEIEIDFETLKPSTLRELERYVLSCLRKKPRKPY--TIKKPVGKTKEELALEKKRELEKRLQDVSGQLNSTKKPPKKANEKTESSSAQQVAVSRLSASSSSSDSSSSSSSSSSSDTSDSDSG', 'MASVPALQSPQVNPPPPEVSNPKKPGRVTNQLQYLHKVVMKALWKHQFAWPFRQPVDAVKLGLPDYHKIIKQPMDMGTIKRRLENNYYWGAAECMQDFNTMFTNCYIYNKPTDDIVLMAQTLEKIFLQKVAQMPPEEQEIVVPVAKNSHKKGASRAAALLAGLTAAQQVPAVSSVSHTTVYTPSPDIPTTIVNIPHPSVISAPLLKSLHSTAPAVLA-APA-PTQPVAKKKGVKRKADTTTPTTTAIIATSGESSPSATVLEAKAAKI-PARRESGRPIKPPKKDLPDS-QQHQTSKKGKLSEQLKYCNGILKELLSKKHAAYAWPFYKPVDASALGLHDYHEIIKHPMDLSTIKRKMENRDYHDAQEFAADVRLMFSNCYKYNPPDHDVVAMARKLQDVFEFSYAKMPDEPQDASPPSMSAPLASALSKSSSEESSSDEDEDDEDDEDDDEDESSSESSSESEESSDSEEERANRLAELQEQLRAVHEQLAALSQGPVSKPKKKR---EKKKKKKSEKHKGR-GG---DEEARA-RQAQLRKAKKA----GGGSG-G-T--G-GGGGSSKNSKKAVKAALPPPPVLYDSEEEEESKPMTYDEKRQLSLDINKLPGEKLGRVVHIIQSREPSLRDSNPEEIEIDFETLKPSTLRELERYVLSCLRKKPRKPYSETMKKPVGKTKEELALEKKRELEKRLQDVSGQLNSTKKPPKKASEKPE--SAQQVAVSRLSASSSSSDSSSSSSSSSSSDTSDSDSG')\n",
      "3\n",
      "(3916.0, 'MLQNVTPHNKLPGEGNAGLLGLGPEAAAPGKRIRKPSLLYEGFESPTMASVPALQLTPANPPPPEVSNPKKPGRVTNQLQYLHKVVMKALWKHQFAWPFRQPVDAVKLGLPDYHKIIKQPMDMGTIKRRLENNYYWAASECMQDFNTMFTNCYIYNKPTDDIVLMAQTLEKIFLQKVASMPQEEQELVVTIPKNSHKKGAKLAALQGSVTSAHQVPAVSSVSHTALYTPPPEIPTTVLNIPHPSVISSPLLKSLHSAGPPLLAVTAAPPAQPLAKKKGVKRKADTTTPTPTAILAPGSPASPPGSLEPKAARLPPMRRESGRPIKPPRKDLPDSQQQHQSSKKGKLSEQLKHCNGILKELLSKKHAAYAWPFYKPVDASALGLHDYHDIIKHPMDLSTVKRKMENRDYRDAQEFAADVRLMFSNCYKYNPPDHDVVAMARKLQDVFEFRYAKMPDEPLEPGPLPVSTAMPPGLAKSSSESSSEESSSESSSEEEEEEDEED-EEEEESESSDSEEERAHRLAELQEQLRAVHEQLAALSQGPISKPKRKREKKEKKKKRKAEKHRGRAGADEDDKGPRAPRPPQPKKSKKASGSGGGSAA-LGPSGFGPSGGSGTKLPKKATKTAPPALPTGYDSEEEEESRPMSYDEKRQLSLDINKLPGEKLGRVVHIIQAREPSLRDSNPEEIEIDFETLKPSTLRELERYVLSCLRKKPRKPYTIKKPVGKTKEELALEKKRELEKRLQDVSGQLNSTKKPPKKANEKTESSSAQQVAVSRLSASSSSSDSSSSSSSSSSSDTSDSDSG', 'MLQNVTPHNKLPGEGNAGLLGLGPEAAAPGKRIRKPSLLYEGFESPTMASVPALQLTPANPPPPEVSNPKKPGRVTNQLQYLHKVVMKALWKHQFAWPFRQPVDAVKLGLPDYHKIIKQPMDMGTIKRRLENNYYWAASECMQDFNTMFTNCYIYNKPTDDIVLMAQTLEKIFLQKVASMPQEEQELVVTIPKNSHKKGAK---L-----------A-------ALYTPPPEIPTTVLNIPHPSVISSPLLKSLHSAGPPLLAVSAAPPAQPLAKKKGVKRKADTTTPTPTAILAPGSPASPPGGLEPKAARLPPMRRESGRPIKPPRKDLPDSQQQHQSSKKGKLSEQLKHCNGILKELLSKKHAAYAWPFYKPVDASALGLHDYHDIIKHPMDLSTVKRKMENRDYRDAQEFAADVRLMFSNCYKYNPPDHDVVAMARKLQDVFEFRYAKMPDEPLEPGPLPVSTALAPGLAKSSSESSSEESSSESSSEEEEEEDEEDEEEEEESESSDSEEERAHRLAELQEQLRAVHEQLAALSQGPISKPKRKREKKEKKKKRKAEKHRGRAGVEEDDKGPRAPRPSQPKKSKKASGSGAGSAATLGPPGFGPSGGSSTKLPKKATKTAPPALPAGYDSEEEEESRPMSYDEKRQLSLDINKLPGEKLGRVVHIIQAREPSLRDSNPEEIEIDFETLKPSTLRELERYVLSCLRKKPRKPYTIKKPVGKTKEELALEKKRELEKRLQDVSGQLNSTKKPPKKASEKAETSSAQQVAVSRLSASSSSSDSSSSSSSSSSSDTSDSDSG')\n",
      "[3173.0, 3682.0, 2941.0, 3916.0]\n",
      "3916.0\n",
      "3\n",
      ">tr|A0A6J3S0E0|A0A6J3S0E0_TURTR bromodomain-containing protein 2 isoform X2 OS=Tursiops truncatus OX=9739 GN=BRD2 PE=4 SV=1\n",
      "3682.0\n",
      "1\n",
      ">sp|Q7JJ13-2|BRD2_MOUSE Isoform 2 of Bromodomain-containing protein 2 OS=Mus musculus OX=10090 GN=Brd2\n",
      "3173.0\n",
      "0\n",
      ">tr|F1NS89|F1NS89_CHICK Uncharacterized protein OS=Gallus gallus OX=9031 GN=BRD2 PE=4 SV=3\n",
      "2941.0\n",
      "2\n",
      ">tr|A0A7L2UKK1|A0A7L2UKK1_BALRX BRD2 protein (Fragment) OS=Balaeniceps rex OX=33584 GN=Brd2 PE=4 SV=1\n",
      "[3916.0, 3682.0, 3173.0, 2941.0]\n"
     ]
    },
    {
     "data": {
      "text/plain": [
       "'>sp|P25440|BRD2_HUMAN Bromodomain-containing protein 2 OS=Homo sapiens OX=9606 GN=BRD2 PE=1 SV=2'"
      ]
     },
     "execution_count": 117,
     "metadata": {},
     "output_type": "execute_result"
    }
   ],
   "source": [
    "    \"\"\"\n",
    "    This function should\n",
    "    (1) Align all species to humans and print species in order of most similar to human BRD\n",
    "    (2) Print all alignment scores between each species BRD2 and human BRD2\n",
    "    \"\"\"\n",
    "    hs_seq, hs_header = read_fasta(\"./data/Homo_sapiens_BRD2.fa\")\n",
    "    gg_seq, gg_header = read_fasta(\"./data/Gallus_gallus_BRD2.fa\")\n",
    "    mm_seq, mm_header = read_fasta(\"./data/Mus_musculus_BRD2.fa\")\n",
    "    br_seq, br_header = read_fasta(\"./data/Balaeniceps_rex_BRD2.fa\")\n",
    "    tt_seq, tt_header = read_fasta(\"./data/tursiops_truncatus_BRD2.fa\")\n",
    "\n",
    "    # TODO Align all species to humans and print species in order of most similar to human BRD\n",
    "    # using gap opening penalty of -10 and a gap extension penalty of -1 and BLOSUM62 matrix\n",
    "    \n",
    "    # create lists for species sequences and headers, as well as an empty list for scores\n",
    "    other_species_BRD2 = [gg_seq, mm_seq, br_seq, tt_seq]\n",
    "    other_species_headers = [gg_header, mm_header, br_header, tt_header]\n",
    "    scores = []\n",
    "    \n",
    "    # align each species to human, record scores\n",
    "    Alignment=NeedlemanWunsch(\"./substitution_matrices/BLOSUM62.mat\", -10, -1)\n",
    "    for species_num in range(4):\n",
    "        print(species_num)\n",
    "        compare_to_human = Alignment.align(hs_seq, other_species_BRD2[species_num])\n",
    "        print(compare_to_human)\n",
    "        scores.append(compare_to_human[0]) # add score to list\n",
    "    \n",
    "    # sort scores from largest to smallest\n",
    "    print(scores)\n",
    "    arranged_scores = sorted(scores, reverse=True)\n",
    "    \n",
    "    # print species for each score from largest to smallest\n",
    "    for score in arranged_scores:\n",
    "        print(score)\n",
    "        score_orig_index = scores.index(score)\n",
    "        print(score_orig_index)\n",
    "        print(other_species_headers[score_orig_index])\n",
    "    \n",
    "    \n",
    "    # TODO print all of the alignment score between each species BRD2 and human BRD2\n",
    "    # using gap opening penalty of -10 and a gap extension penalty of -1 and BLOSUM62 matrix\n",
    "    print(arranged_scores)\n",
    "\n",
    "hs_header"
   ]
  },
  {
   "cell_type": "code",
   "execution_count": 119,
   "id": "1d88fa5a",
   "metadata": {},
   "outputs": [
    {
     "data": {
      "text/plain": [
       "['x', 'm', 'c', 'a']"
      ]
     },
     "execution_count": 119,
     "metadata": {},
     "output_type": "execute_result"
    }
   ],
   "source": [
    "blah = [\"a\", \"c\", \"x\", \"m\"]\n",
    "sorted(blah, reverse=True)"
   ]
  },
  {
   "cell_type": "code",
   "execution_count": 122,
   "id": "8336ae02",
   "metadata": {},
   "outputs": [
    {
     "name": "stdout",
     "output_type": "stream",
     "text": [
      ">tr|A0A6J3S0E0|A0A6J3S0E0_TURTR bromodomain-containing protein 2 isoform X2 OS=Tursiops truncatus OX=9739 GN=BRD2 PE=4 SV=1\n",
      ">sp|Q7JJ13-2|BRD2_MOUSE Isoform 2 of Bromodomain-containing protein 2 OS=Mus musculus OX=10090 GN=Brd2\n",
      ">tr|F1NS89|F1NS89_CHICK Uncharacterized protein OS=Gallus gallus OX=9031 GN=BRD2 PE=4 SV=3\n",
      ">tr|A0A7L2UKK1|A0A7L2UKK1_BALRX BRD2 protein (Fragment) OS=Balaeniceps rex OX=33584 GN=Brd2 PE=4 SV=1\n",
      "[3916.0, 3682.0, 3173.0, 2941.0]\n"
     ]
    }
   ],
   "source": [
    "    hs_seq, hs_header = read_fasta(\"./data/Homo_sapiens_BRD2.fa\")\n",
    "    gg_seq, gg_header = read_fasta(\"./data/Gallus_gallus_BRD2.fa\")\n",
    "    mm_seq, mm_header = read_fasta(\"./data/Mus_musculus_BRD2.fa\")\n",
    "    br_seq, br_header = read_fasta(\"./data/Balaeniceps_rex_BRD2.fa\")\n",
    "    tt_seq, tt_header = read_fasta(\"./data/tursiops_truncatus_BRD2.fa\")\n",
    "\n",
    "    # TODO Align all species to humans and print species in order of most similar to human BRD\n",
    "    # using gap opening penalty of -10 and a gap extension penalty of -1 and BLOSUM62 matrix\n",
    "\n",
    "    # create lists for species sequences and headers, as well as an empty list for scores\n",
    "    other_species_BRD2 = [gg_seq, mm_seq, br_seq, tt_seq]\n",
    "    other_species_headers = [gg_header, mm_header, br_header, tt_header]\n",
    "    scores = []\n",
    "    \n",
    "    # align each species to human, record scores\n",
    "    Alignment=NeedlemanWunsch(\"./substitution_matrices/BLOSUM62.mat\", -10, -1)\n",
    "    for species_num in range(4):\n",
    "        compare_to_human = Alignment.align(hs_seq, other_species_BRD2[species_num])\n",
    "        scores.append(compare_to_human[0]) # add score to list\n",
    "    \n",
    "    # sort scores from largest to smallest\n",
    "    arranged_scores = sorted(scores, reverse=True)\n",
    "    \n",
    "    # print species for each score from largest to smallest\n",
    "    for score in arranged_scores:\n",
    "        score_orig_index = scores.index(score)\n",
    "        print(other_species_headers[score_orig_index])\n",
    "\n",
    "    # TODO print all of the alignment score between each species BRD2 and human BRD2\n",
    "    # using gap opening penalty of -10 and a gap extension penalty of -1 and BLOSUM62 matrix\n",
    "    print(arranged_scores)"
   ]
  },
  {
   "cell_type": "code",
   "execution_count": null,
   "id": "e64c4324",
   "metadata": {},
   "outputs": [],
   "source": []
  }
 ],
 "metadata": {
  "kernelspec": {
   "display_name": "Python 3",
   "language": "python",
   "name": "python3"
  },
  "language_info": {
   "codemirror_mode": {
    "name": "ipython",
    "version": 3
   },
   "file_extension": ".py",
   "mimetype": "text/x-python",
   "name": "python",
   "nbconvert_exporter": "python",
   "pygments_lexer": "ipython3",
   "version": "3.8.5"
  }
 },
 "nbformat": 4,
 "nbformat_minor": 5
}
